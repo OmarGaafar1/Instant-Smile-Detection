{
 "cells": [
  {
   "cell_type": "code",
   "execution_count": 3,
   "id": "7b79b4ce-ded8-4cf9-9b7f-8cdbf73999fb",
   "metadata": {},
   "outputs": [
    {
     "name": "stdout",
     "output_type": "stream",
     "text": [
      "Requirement already satisfied: numpy in c:\\users\\20112\\appdata\\local\\programs\\python\\python312\\lib\\site-packages (from -r main requirments.txt (line 1)) (1.26.4)\n"
     ]
    }
   ],
   "source": [
    "!pip install -r \"requirments.txt\""
   ]
  },
  {
   "cell_type": "code",
   "execution_count": 16,
   "id": "c9fbbc1b-9e65-488d-8c03-d2caa5b06717",
   "metadata": {},
   "outputs": [],
   "source": [
    "from facenet_pytorch import MTCNN\n",
    "import cv2\n",
    "import numpy as np\n",
    "from tensorflow.keras.models import load_model\n",
    "from tensorflow.keras.losses import BinaryCrossentropy\n",
    "import tensorflow as tf]\n",
    "import os"
   ]
  },
  {
   "cell_type": "markdown",
   "id": "a8c8aaf3-b18c-455d-b08c-8373039a2371",
   "metadata": {},
   "source": [
    "## Loading the model "
   ]
  },
  {
   "cell_type": "code",
   "execution_count": 13,
   "id": "5d2b82a2-187c-4337-b8d5-ee0657944bec",
   "metadata": {},
   "outputs": [],
   "source": [
    "model = load_model(os.path.join(\"Completed model\" ,\"SmileOrNotModel.keras\"), compile=False)\n",
    "model.compile(loss=BinaryCrossentropy(), optimizer='adam', metrics=['accuracy'])"
   ]
  },
  {
   "cell_type": "markdown",
   "id": "8b15425b-0476-4fc6-9a85-411006c9831b",
   "metadata": {},
   "source": [
    "## Function to preprocess input image"
   ]
  },
  {
   "cell_type": "code",
   "execution_count": 14,
   "id": "cf5ec284-51f6-415b-a84f-e3d4eb79a8a1",
   "metadata": {},
   "outputs": [],
   "source": [
    "def preprocess_image(img):\n",
    "    # Resize the image to (256, 256)\n",
    "    img_resized = cv2.resize(img, (256, 256))\n",
    "    # Expand the dimensions to make it compatible with model input shape\n",
    "    img_expanded = np.expand_dims(img_resized / 255.0, axis=0)\n",
    "    return img_expanded"
   ]
  },
  {
   "cell_type": "markdown",
   "id": "dd33ae03-5ef8-4ed3-a6eb-a68cefc45133",
   "metadata": {},
   "source": [
    "## Function to predict smile"
   ]
  },
  {
   "cell_type": "code",
   "execution_count": 15,
   "id": "e459f080-f98c-4031-bf0f-79bdf2d513f8",
   "metadata": {},
   "outputs": [],
   "source": [
    "def predict_smile(img):\n",
    "    # Preprocess the image\n",
    "    processed_img = preprocess_image(img)\n",
    "    # Make prediction using your model\n",
    "    prediction = model.predict(processed_img)\n",
    "    # Return the prediction\n",
    "    return prediction"
   ]
  },
  {
   "cell_type": "markdown",
   "id": "9753a8b8-f135-4bb7-9627-c5f161ad389b",
   "metadata": {},
   "source": [
    "## Starting the video stream to capture the face"
   ]
  },
  {
   "cell_type": "code",
   "execution_count": 7,
   "id": "b4306bf6-83b3-4abe-83ea-87de33348eed",
   "metadata": {},
   "outputs": [],
   "source": [
    "# Open video stream from the webcam\n",
    "cap = cv2.VideoCapture(0)  # 0 for the default camera, you can change it if you have multiple cameras\n",
    "# Initialize MTCNN\n",
    "mtcnn = MTCNN()\n",
    "while True:\n",
    "    # Capture frame-by-frame\n",
    "    ret, frame = cap.read()\n",
    "    if not ret:\n",
    "        break\n",
    "\n",
    "    # Convert frame from BGR to RGB (MTCNN expects RGB)\n",
    "    rgb_frame = cv2.cvtColor(frame, cv2.COLOR_BGR2RGB)\n",
    "\n",
    "    # Detect faces using MTCNN\n",
    "    boxes, probs, landmarks = mtcnn.detect(rgb_frame, landmarks=True)\n",
    "\n",
    "    # Draw bounding boxes and landmarks\n",
    "    if boxes is not None:\n",
    "        for box, landmark in zip(boxes, landmarks):\n",
    "            # Draw bounding box\n",
    "            cv2.rectangle(frame, (int(box[0]), int(box[1])), (int(box[2]), int(box[3])), (0, 255, 0), 2)\n",
    "            # Draw landmarks\n",
    "            for point in landmark:\n",
    "                cv2.circle(frame, (int(point[0]), int(point[1])), 2, (0, 0, 255), -1)\n",
    "\n",
    "            # Crop the detected face\n",
    "            face_img = frame[int(box[1]):int(box[3]), int(box[0]):int(box[2])]\n",
    "\n",
    "            prediction = predict_smile(face_img)\n",
    "\n",
    "            # Display prediction (e.g., draw text on the frame)\n",
    "            if prediction > 0.5:\n",
    "                cv2.putText(frame, 'Smiling', (int(box[0]), int(box[1])), cv2.FONT_HERSHEY_SIMPLEX, 1, (0, 255, 0), 2)\n",
    "            else:\n",
    "                cv2.putText(frame, 'Not Smiling', (int(box[0]), int(box[1])), cv2.FONT_HERSHEY_SIMPLEX, 1, (0, 0, 255),\n",
    "                            2)\n",
    "\n",
    "    # Display the resulting frame\n",
    "    cv2.imshow('Face Detection with MTCNN', frame)\n",
    "\n",
    "    # Exit loop if 'q' is pressed\n",
    "    if cv2.waitKey(1) & 0xFF == ord('q'):\n",
    "        break\n",
    "\n",
    "# Release the video capture object and close all windows\n",
    "cap.release()\n",
    "cv2.destroyAllWindows()"
   ]
  },
  {
   "cell_type": "code",
   "execution_count": null,
   "id": "1d33b26f-fccd-4c7f-9bac-848ff0802162",
   "metadata": {},
   "outputs": [],
   "source": []
  }
 ],
 "metadata": {
  "kernelspec": {
   "display_name": "Python 3 (ipykernel)",
   "language": "python",
   "name": "python3"
  },
  "language_info": {
   "codemirror_mode": {
    "name": "ipython",
    "version": 3
   },
   "file_extension": ".py",
   "mimetype": "text/x-python",
   "name": "python",
   "nbconvert_exporter": "python",
   "pygments_lexer": "ipython3",
   "version": "3.12.2"
  }
 },
 "nbformat": 4,
 "nbformat_minor": 5
}
